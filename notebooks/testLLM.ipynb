{
 "cells": [
  {
   "cell_type": "code",
   "execution_count": 16,
   "metadata": {},
   "outputs": [],
   "source": [
    "import getpass\n",
    "import os\n",
    "import base64\n",
    "import json\n",
    "import re\n",
    "\n",
    "if \"GOOGLE_API_KEY\" not in os.environ:\n",
    "    os.environ[\"GOOGLE_API_KEY\"] = getpass.getpass(\"Enter your Google AI API key: \")"
   ]
  },
  {
   "cell_type": "code",
   "execution_count": 17,
   "metadata": {},
   "outputs": [],
   "source": [
    "from langchain_google_genai import ChatGoogleGenerativeAI\n",
    "\n",
    "llm = ChatGoogleGenerativeAI(\n",
    "    model=\"gemini-2.0-flash\",\n",
    "    temperature=0,\n",
    "    max_tokens=None,\n",
    "    timeout=None,\n",
    "    max_retries=2,\n",
    ")"
   ]
  },
  {
   "cell_type": "code",
   "execution_count": 18,
   "metadata": {},
   "outputs": [
    {
     "name": "stdout",
     "output_type": "stream",
     "text": [
      "Response content: ```json\n",
      "{\n",
      "  \"type\": \"example\",\n",
      "  \"summary\": \"This is a test.\"\n",
      "}\n",
      "```\n",
      "Failed to parse JSON: Expecting value: line 1 column 1 (char 0). Content was: '```json\n",
      "{\n",
      "  \"type\": \"example\",\n",
      "  \"summary\": \"This is a test.\"\n",
      "}\n",
      "```'\n"
     ]
    }
   ],
   "source": [
    "messages = [\n",
    "    (\"system\", \"You are a medical assistant. Return only a JSON object with two fields: type set to 'example', and summary set to 'This is a test.' Do not include any additional text, explanations, or formatting.\"),\n",
    "    (\"human\", \"Generate the JSON response.\"),\n",
    "]\n",
    "ai_msg = llm.invoke(messages)\n",
    "print(\"Response content:\", ai_msg.content)\n",
    "\n",
    "try:\n",
    "    json_response = json.loads(ai_msg.content)\n",
    "    print(\"Parsed JSON:\", json_response)\n",
    "except json.JSONDecodeError as e:\n",
    "    print(f\"Failed to parse JSON: {e}. Content was: '{ai_msg.content}'\")"
   ]
  },
  {
   "cell_type": "code",
   "execution_count": null,
   "metadata": {},
   "outputs": [
    {
     "name": "stdout",
     "output_type": "stream",
     "text": [
      "```json\n",
      "{\n",
      "  \"type\": \"Medical Report\",\n",
      "  \"description\": \"A medical report detailing the diagnosis, treatment, and plan for a 70-year-old patient with coronary artery disease and myocardial ischemia, dated September 19, 2023.\"\n",
      "}\n",
      "```\n",
      "Parsed JSON: {'type': 'Medical Report', 'description': 'A medical report detailing the diagnosis, treatment, and plan for a 70-year-old patient with coronary artery disease and myocardial ischemia, dated September 19, 2023.'}\n"
     ]
    }
   ],
   "source": [
    "\n",
    "# Path to the image\n",
    "imagePath = \"/Users/jan/documents/dev/cdtmhacks/cdtm-hacks-aviChallenge/data/docs/image copy.png\"\n",
    "\n",
    "# Encode the image in base64\n",
    "with open(imagePath, \"rb\") as image_file:\n",
    "    encoded_string = base64.b64encode(image_file.read()).decode('utf-8')\n",
    "\n",
    "# Prepare the message with text and image\n",
    "message = {\n",
    "    \"role\": \"user\",\n",
    "    \"content\": [\n",
    "        {\n",
    "            \"type\": \"text\",\n",
    "            \"text\": \"Analyze the document in this image and return only a JSON object with two fields: 'type' containing the type of document, and 'description' containing a brief description of the document's content and the date if possible. Do not include any additional text, explanations, or formatting.\"\n",
    "        },\n",
    "        {\n",
    "            \"type\": \"image\",\n",
    "            \"source_type\": \"base64\",\n",
    "            \"data\": encoded_string,\n",
    "            \"mime_type\": \"image/png\",\n",
    "        },\n",
    "    ],\n",
    "}\n",
    "\n",
    "# Invoke the model (assuming 'llm' is your multimodal model instance)\n",
    "response = llm.invoke([message])\n",
    "response_text = response.text()\n",
    "\n",
    "print(response_text)\n",
    "\n",
    "# Extract JSON from the response\n",
    "json_match = re.search(r'\\{.*\\}', response_text, re.DOTALL)\n",
    "\n",
    "if json_match:\n",
    "    json_str = json_match.group(0)\n",
    "    try:\n",
    "        json_response = json.loads(json_str)\n",
    "        print(\"Parsed JSON:\", json_response)\n",
    "    except json.JSONDecodeError as e:\n",
    "        print(f\"Failed to parse JSON: {e}. Content was: '{json_str}'\")\n",
    "else:\n",
    "    print(\"No JSON found in response. Full responsez§x:\", response_text)\n",
    "\n"
   ]
  },
  {
   "cell_type": "code",
   "execution_count": null,
   "metadata": {},
   "outputs": [],
   "source": [
    "    "
   ]
  }
 ],
 "metadata": {
  "kernelspec": {
   "display_name": "jupyter_env",
   "language": "python",
   "name": "python3"
  },
  "language_info": {
   "codemirror_mode": {
    "name": "ipython",
    "version": 3
   },
   "file_extension": ".py",
   "mimetype": "text/x-python",
   "name": "python",
   "nbconvert_exporter": "python",
   "pygments_lexer": "ipython3",
   "version": "3.13.2"
  }
 },
 "nbformat": 4,
 "nbformat_minor": 2
}
