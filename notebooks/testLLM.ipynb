{
 "cells": [
  {
   "cell_type": "code",
   "execution_count": 4,
   "metadata": {},
   "outputs": [],
   "source": [
    "import getpass\n",
    "import os\n",
    "import base64\n",
    "\n",
    "if \"GOOGLE_API_KEY\" not in os.environ:\n",
    "    os.environ[\"GOOGLE_API_KEY\"] = getpass.getpass(\"Enter your Google AI API key: \")"
   ]
  },
  {
   "cell_type": "code",
   "execution_count": 5,
   "metadata": {},
   "outputs": [],
   "source": [
    "from langchain_google_genai import ChatGoogleGenerativeAI\n",
    "\n",
    "llm = ChatGoogleGenerativeAI(\n",
    "    model=\"gemini-2.0-flash\",\n",
    "    temperature=0,\n",
    "    max_tokens=None,\n",
    "    timeout=None,\n",
    "    max_retries=2,\n",
    ")"
   ]
  },
  {
   "cell_type": "code",
   "execution_count": 6,
   "metadata": {},
   "outputs": [
    {
     "data": {
      "text/plain": [
       "AIMessage(content=\"J'adore la programmation.\", additional_kwargs={}, response_metadata={'prompt_feedback': {'block_reason': 0, 'safety_ratings': []}, 'finish_reason': 'STOP', 'model_name': 'gemini-2.0-flash', 'safety_ratings': []}, id='run--45f8a40f-0660-4dcb-b356-5aabdef20088-0', usage_metadata={'input_tokens': 20, 'output_tokens': 7, 'total_tokens': 27, 'input_token_details': {'cache_read': 0}})"
      ]
     },
     "execution_count": 6,
     "metadata": {},
     "output_type": "execute_result"
    }
   ],
   "source": [
    "messages = [\n",
    "    (\n",
    "        \"system\",\n",
    "        \"You are a helpful assistant that translates English to French. Translate the user sentence.\",\n",
    "    ),\n",
    "    (\"human\", \"I love programming.\"),\n",
    "]\n",
    "ai_msg = llm.invoke(messages)\n",
    "ai_msg"
   ]
  },
  {
   "cell_type": "code",
   "execution_count": 8,
   "metadata": {},
   "outputs": [
    {
     "name": "stdout",
     "output_type": "stream",
     "text": [
      "The document is a medical report for a patient named Maximilian Vogel, born on December 18, 1952. The report, dated September 19, 2023, details his medical history, current condition, treatment, and planned future care.\n",
      "\n",
      "**Key points from the report:**\n",
      "\n",
      "*   **Reason for Admission:** The patient was admitted due to suspected significant myocardial ischemia (reduced blood flow to the heart).\n",
      "*   **Medical History:** He has a history of atypical angina pectoris (chest pain), a pathological stress echocardiogram showing wall motion abnormalities during exercise, and a coronary CT scan indicating multi-vessel coronary artery disease. He also has high cholesterol and a family history of atherosclerotic heart disease.\n",
      "*   **Current Status:** The patient is a 70-year-old, normal-weight man in good general condition with regular heart sounds and a heart rate of 70 beats per minute. He has no apparent neurological deficits.\n",
      "*   **Treatment and Progress:** He underwent a cardiac catheterization on September 18, 2023, which revealed advanced diffuse coronary two-vessel disease. A high-grade stenosis (narrowing) was found in the distal right coronary artery (RCA), and a moderate narrowing was found in the right ventricular posterior branch (RIVP). There was also a high-grade stenosis in the distal left anterior descending artery (RIVA) after the diagonal branch. The RCA stenosis was successfully treated with PTCA (percutaneous transluminal coronary angioplasty) using a non-compliant balloon and high-pressure DES (drug-eluting stent) implantation. The post-intervention course was uncomplicated.\n",
      "*   **Future Plans:** Another appointment is scheduled to address the RIVA bifurcation stenosis. The patient's anti-ischemic medication regimen has been adjusted to include Nebivolol. The goal is to keep his LDL cholesterol below 1.4 mmol/l using Atorvastatin and Ezetimib. If this is not achieved, a PCSK9 inhibitor, such as Inclisiran, will be considered in consultation with a lipid metabolism specialist.\n",
      "*   **Discharge:** The patient is stable and can be discharged on September 19, 2023, to continue his treatment.\n",
      "\n",
      "The report is signed by Prof. Dr. med. M. Stockburger, Chief Physician of the Medical Clinic I.\n"
     ]
    }
   ],
   "source": [
    "\n",
    "imagePath = \"/Users/vishi/avi-hackathon/data/docs/image copy.png\"\n",
    "#encoode image\n",
    "with open(imagePath, \"rb\") as image_file:\n",
    "    encoded_string = base64.b64encode(image_file.read()).decode('utf-8')\n",
    "\n",
    "#call gemini        \n",
    "message = {\n",
    "    \"role\": \"user\",\n",
    "    \"content\": [\n",
    "        {\n",
    "            \"type\": \"text\",\n",
    "            \"text\": \"Describe the content of this document in the image:\",\n",
    "        },\n",
    "        {\n",
    "            \"type\": \"image\",\n",
    "            \"source_type\": \"base64\",\n",
    "            \"data\": encoded_string,\n",
    "            \"mime_type\": \"image/png\",\n",
    "        },\n",
    "    ],\n",
    "}\n",
    "response = llm.invoke([message])\n",
    "print(response.text())\n",
    "\n"
   ]
  },
  {
   "cell_type": "code",
   "execution_count": null,
   "metadata": {},
   "outputs": [],
   "source": []
  }
 ],
 "metadata": {
  "kernelspec": {
   "display_name": "cdtm",
   "language": "python",
   "name": "python3"
  },
  "language_info": {
   "codemirror_mode": {
    "name": "ipython",
    "version": 3
   },
   "file_extension": ".py",
   "mimetype": "text/x-python",
   "name": "python",
   "nbconvert_exporter": "python",
   "pygments_lexer": "ipython3",
   "version": "3.12.0"
  }
 },
 "nbformat": 4,
 "nbformat_minor": 2
}
